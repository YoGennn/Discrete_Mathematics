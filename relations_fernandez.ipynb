{
 "cells": [
  {
   "cell_type": "code",
   "execution_count": 1,
   "metadata": {},
   "outputs": [],
   "source": [
    "import networkx as nx\n",
    "\n",
    "from networkx.drawing import nx_pydot\n",
    "from graphviz import Source"
   ]
  },
  {
   "cell_type": "code",
   "execution_count": 2,
   "metadata": {},
   "outputs": [],
   "source": [
    "def set_to_latex(_set: set) -> str:\n",
    "\t\n",
    "\t_list = list(_set)\n",
    "\n",
    "\tlength = len(_list)\n",
    "\tformat = \"\\{\"\n",
    "\n",
    "\t_length = length - 1\n",
    "\n",
    "\tfor i in range(length):\n",
    "\t\telement = _list[i]\n",
    "\n",
    "\t\tif isinstance(element, (set, list, tuple)):\n",
    "\t\t\telement = set_to_latex(element)\n",
    "\n",
    "\t\tif i == _length:\n",
    "\t\t\tformat += f\"{element}\\{'}'}\"\n",
    "\t\telse:\n",
    "\t\t\tformat += f\"{element}, \"\n",
    "\n",
    "\treturn format\n",
    "\n",
    "\n",
    "def is_reflexive(R: set, A: set) -> bool:\n",
    "\tfor a in A:\n",
    "\t\tif (a, a) not in R:\n",
    "\t\t\treturn False\n",
    "\t\n",
    "\treturn True\n",
    "\n",
    "def is_symmetric(R: set) -> bool:\n",
    "\tfor (a, b) in R:\n",
    "\t\tif (b, a) not in R:\n",
    "\t\t\treturn False\n",
    "\n",
    "\treturn True\n",
    "\n",
    "def is_antisymmetric(R: set) -> bool:\n",
    "\treturn not is_symmetric(R)\n",
    "\n",
    "def is_transitive(R: set) -> bool:\n",
    "\tfor (a, b) in R:\n",
    "\t\tfor (_b, c) in R:\n",
    "\t\t\tif b == _b:\n",
    "\t\t\t\tcontinue\n",
    "\n",
    "\t\t\tif (a, c) not in R:\n",
    "\t\t\t\treturn False\n",
    "\n",
    "\n",
    "\treturn True\n",
    "\n",
    "def get_composition(R: set, S: set) -> set:\n",
    "\tRS = []\n",
    "\n",
    "\tfor (a, b) in R:\n",
    "\t\tfor (_b, c) in S:\n",
    "\t\t\tif b != _b:\n",
    "\t\t\t\tcontinue\n",
    "\n",
    "\t\t\tif (a, c) not in RS:\n",
    "\t\t\t\tRS.append((a, c))\n",
    "\t\n",
    "\treturn RS\n",
    "\n",
    "def draw_directed_graph(R: set):\n",
    "\tG = nx.MultiDiGraph()\n",
    "\n",
    "\tfor (a, b) in R:\n",
    "\t\tG.add_edge(a, b)\n",
    "\t\n",
    "\tnx_pydot.write_dot(G, 'multig.dot')\n"
   ]
  },
  {
   "cell_type": "markdown",
   "metadata": {},
   "source": [
    "Jojenn Fernandez <br>\n",
    "BSIT - 1 <br>\n",
    "September 7, 2023 <br>\n",
    "CIS 1103 Group 5 <br>"
   ]
  },
  {
   "cell_type": "markdown",
   "metadata": {},
   "source": [
    "# 1. Given $A = \\{1,2,3,4\\}$ and $B = \\{x,y,z\\}$. <hr>\n",
    "\n",
    "Let $R$ be a relation from $A \\to B$\n",
    "\n",
    "$R = \\{\\{1, y\\}, \\{1, z}, \\{3, y}, \\{4, x}, \\{4, z}}\n",
    "\n",
    "1. Find all $aRb$.\n",
    "2. Find $R^{-1}$.\n",
    "3. Determine the domain and range of $R$.\n",
    "4. Check if $R$ is reflexive relation.\n",
    "5. Check if $R$ is a symmetric relation.\n"
   ]
  },
  {
   "cell_type": "markdown",
   "metadata": {},
   "source": [
    "# 1. Find all $aRb$.\n"
   ]
  },
  {
   "cell_type": "markdown",
   "metadata": {},
   "source": [
    "- $aRb = {(a, b)|(a, b) \\in R}$\n",
    "- $\\therefore = {(1, y),(1, z),(3, y),(4, x), (4, z)}$"
   ]
  },
  {
   "cell_type": "markdown",
   "metadata": {},
   "source": [
    "# 2. Find $R^{-1}$.\n"
   ]
  },
  {
   "cell_type": "markdown",
   "metadata": {},
   "source": [
    "- $R^{-1} = \\{(b,a)|(a,b) \\in R\\}$\n",
    "- $\\therefore R^{-1} = \\{\\{y,1\\},\\{z,1\\},\\{y,3\\},\\{z,4\\}\\}$"
   ]
  },
  {
   "cell_type": "markdown",
   "metadata": {},
   "source": [
    "# 3. Determine the domain and range of $R$."
   ]
  },
  {
   "cell_type": "markdown",
   "metadata": {},
   "source": [
    "- Domain: $\\{a|(a,b) \\in R\\}$\n",
    "- Range: $\\{b|(a,b) \\in R\\}$\n",
    "- $\\therefore$ The domain of $R$ is $\\{1,3,4\\}$, and the range is $\\{x,y,z\\}$"
   ]
  },
  {
   "cell_type": "markdown",
   "metadata": {},
   "source": [
    "# 4. Check if $R$ is a reflexive relation."
   ]
  },
  {
   "cell_type": "markdown",
   "metadata": {},
   "source": [
    "- It is stated that $R$ is a relation from $A \\to B$\n",
    "- A relation $A \\to B$ cannot be reflexive, since reflexive is a relation from $A \\to A$.\n",
    "- $A$ = $\\{1,2,3,4\\}$, and for every element in $A$, there is no pair $(a,a)$ in $R$.\n",
    "- The same applies with $B$.\n",
    "- $\\therefore$ $R$ is **not** a reflexive relation."
   ]
  },
  {
   "cell_type": "code",
   "execution_count": 3,
   "metadata": {},
   "outputs": [
    {
     "name": "stdout",
     "output_type": "stream",
     "text": [
      "Relation: {(1, 'z'), (1, 'y'), (4, 'x'), (4, 'z'), (3, 'y')}\n",
      "Reflexive with A: False\n",
      "Reflexive with B: False\n"
     ]
    }
   ],
   "source": [
    "A = {1, 2, 3, 4}\n",
    "B = {'x', 'y', 'z'}\n",
    "\n",
    "R = {(1, 'y'), (1, 'z'), (3, 'y'), (4, 'x'), (4, 'z')}\n",
    "\n",
    "print(f\"Relation: {R}\")\n",
    "print(f\"Reflexive with A: {is_reflexive(R, A)}\")\n",
    "print(f\"Reflexive with B: {is_reflexive(R, B)}\")"
   ]
  },
  {
   "cell_type": "markdown",
   "metadata": {},
   "source": [
    "# 5. Check if $R$ is a symmetric relation."
   ]
  },
  {
   "cell_type": "markdown",
   "metadata": {},
   "source": [
    "- A relation is symmetric if $(a,b) \\in R$ then $(b,a) \\in R$.\n",
    "- Check if every pair of elements of $R$:\n",
    "    \n",
    "    - $(1, y)$ is in $R$ $(y, 1)$ is not in $R$.\n",
    "    - $(1, z)$ is in $R$ $(z, 1)$ is not in $R$.\n",
    "    - $(3, y)$ is in $R$ $(y, 1)$ is not in $R$.\n",
    "    - $(4, x)$ is in $R$ $(x, 4)$ is not in $R$.\n",
    "    - $(4, z)$ is in $R$ $(z, 4)$ is not in $R$.\n",
    "\n",
    "- $\\therefore R$ is **not** a symmetric relation.\n",
    "    \n"
   ]
  },
  {
   "cell_type": "code",
   "execution_count": 4,
   "metadata": {},
   "outputs": [
    {
     "name": "stdout",
     "output_type": "stream",
     "text": [
      "Relation: {(1, 'z'), (1, 'y'), (4, 'x'), (4, 'z'), (3, 'y')}\n",
      "Symmetric: False\n"
     ]
    }
   ],
   "source": [
    "R = {(1, 'y'), (1, 'z'), (3, 'y'), (4, 'x'), (4, 'z')}\n",
    "\n",
    "print(f\"Relation: {R}\")\n",
    "print(f\"Symmetric: {is_symmetric(R)}\")"
   ]
  },
  {
   "cell_type": "markdown",
   "metadata": {},
   "source": [
    "# 2. Given $A$ = {1, 2, 3, 4} $B$ = {a, b, c} and $C$ = {x, y, z} \n",
    "\n",
    "<hr>"
   ]
  },
  {
   "cell_type": "markdown",
   "metadata": {},
   "source": [
    "Let $R$ be a relation from A $ \\to B$:\n",
    "\n",
    "$R = \\{\\{1, b\\}, \\{2, a\\}, \\{2, c\\}\\}$\n",
    "\n",
    "Also let $S$ be a relation from $B \\to C$:\n",
    "\n",
    "$S = \\{\\{a, y\\}, \\{b, x\\}, \\{c, y\\}, \\{c, z\\}\\}$\n",
    "\n",
    "1. Find the composition relation $R \\circ S$/\n",
    "2. Find $R^{-1}$.\n",
    "3. Find $S^{-1}$.\n",
    "4. Determine the domain and range of $R$.\n",
    "5. Check if $R$ is a reflexive relation.\n",
    "6. Check if $R$ is a symmetric relation.\n",
    "7. Determine the domain and range of $S$.\n",
    "8. Check if $S$ is a reflexive relation.\n",
    "9. Check if $S$ is a symmetric relation.\n"
   ]
  },
  {
   "cell_type": "markdown",
   "metadata": {},
   "source": [
    "# 1. Find the composition relation $R \\circ S$."
   ]
  },
  {
   "cell_type": "markdown",
   "metadata": {},
   "source": [
    "- If some $b \\in B$ we have $aRb$ and $bSc$.\n",
    "- $R \\circ S = \\{(a, c) | \\exists b \\in B$ for which $(a,b) \\in R$ and $(b,c) \\in S \\}$\n",
    "- $\\therefore \\ R \\circ S =\\{\\{1, x\\}, \\{2, y\\}, \\{2, z\\}\\}$"
   ]
  },
  {
   "cell_type": "markdown",
   "metadata": {},
   "source": [
    "## 2. Find $R^{-1}$."
   ]
  },
  {
   "cell_type": "markdown",
   "metadata": {},
   "source": [
    "- $R^{-1} = \\{(b, a) | (a, b) \\in R\\}$\n",
    "- $\\therefore \\ R^{-1} = \\{\\{a, 2\\}, \\{b, 1\\}, \\{c, 2\\}\\}$"
   ]
  },
  {
   "cell_type": "markdown",
   "metadata": {},
   "source": [
    "## 3. Find $S^{-1}$."
   ]
  },
  {
   "cell_type": "markdown",
   "metadata": {},
   "source": [
    "- $S^{-1} = \\{(b, a) | (a, b) \\in S\\}$\n",
    "- $\\therefore \\ S^{-1} = \\{\\{x, b\\}, \\{y, a\\}, \\{y, c\\}, \\{z, c\\}\\}$"
   ]
  },
  {
   "cell_type": "markdown",
   "metadata": {},
   "source": [
    "## 4. Determine the domain and range of $R$."
   ]
  },
  {
   "cell_type": "markdown",
   "metadata": {},
   "source": [
    "- Domain: $\\{a | (a, b) \\in R\\}$\n",
    "- Range: $\\{b | (a, b) \\in R\\}$\n",
    "- $\\therefore$ The domain of $R$ is $\\{1, 2\\}$, and the range is $\\{a, b, c\\}$"
   ]
  },
  {
   "cell_type": "markdown",
   "metadata": {},
   "source": [
    "## 5. Check if $R$ is a reflexive relation.\n",
    "\n",
    "- $R$ is a relation from $A \\to B$.\n",
    "- A relation $A \\to B$ cannot be reflexive, since reflexive relation is from $A \\to A$.\n",
    "- $A = \\{1, 2, 3, 4\\}$, and for every element in $A$, there is no pair $(a, a)$ in $R$.\n",
    "- The same applies with $B$.\n",
    "- $\\therefore \\ R$ is **not** a reflexive relation."
   ]
  },
  {
   "cell_type": "code",
   "execution_count": 5,
   "metadata": {},
   "outputs": [
    {
     "name": "stdout",
     "output_type": "stream",
     "text": [
      "Relation: {(2, 'a'), (1, 'b'), (2, 'c')}\n",
      "Reflexive  with A: False\n",
      "Reflexive  with B: False\n"
     ]
    }
   ],
   "source": [
    "A = {1, 2, 3, 4}\n",
    "B = {'a', 'b', 'c'}\n",
    "\n",
    "R = {(1, 'b'), (2, 'a'), (2, 'c')}\n",
    "\n",
    "print(f\"Relation: {R}\")\n",
    "print(f\"Reflexive  with A: {is_reflexive(R, A)}\")\n",
    "print(f\"Reflexive  with B: {is_reflexive(R, A)}\")"
   ]
  },
  {
   "cell_type": "markdown",
   "metadata": {},
   "source": [
    "## 6. Check if $R$ is a symmetric relation.\n",
    "\n",
    "- A relation is symmetric if $(a, b) \\in R$ and $(b, a) \\in R$.\n",
    "- Lets check every pair of elements of $R$:\n",
    "  - $(1, b)$ is in $R$, $(b, 1)$ is not in $R$.\n",
    "  - $(2, a)$ is in $R$, $(a, 2)$ is not in $R$.\n",
    "  - $(2, c)$ is in $R$, $(c, 2)$ is not in $R$.\n",
    "- $\\therefore \\ R$ is **not** symmetric relation."
   ]
  },
  {
   "cell_type": "code",
   "execution_count": 6,
   "metadata": {},
   "outputs": [
    {
     "name": "stdout",
     "output_type": "stream",
     "text": [
      "Relation: {(2, 'a'), (1, 'b'), (2, 'c')}\n",
      "Symmetric: False\n"
     ]
    }
   ],
   "source": [
    "R = {(1, 'b'), (2, 'a'), (2, 'c')}\n",
    "\n",
    "print(f\"Relation: {R}\")\n",
    "print(f\"Symmetric: {is_symmetric(R)}\")"
   ]
  },
  {
   "cell_type": "markdown",
   "metadata": {},
   "source": [
    "## 7. Determine the domain and range of $S$.\n",
    "\n",
    "- Domain: $\\{a | (a, b) \\in S\\}$\n",
    "- Range: $\\{b | (a, b) \\in S\\}$\n",
    "- $\\therefore$ The domain of $S$ is $\\{a, b, c\\}$, and the range is $\\{x, y, z\\}$"
   ]
  },
  {
   "cell_type": "markdown",
   "metadata": {},
   "source": [
    "## 8. Check if $S$ is a reflexive relation.\n",
    "\n",
    "- $S$ is a relation from $B \\to C$.\n",
    "- A relation $B \\to C$ cannot be reflexive, since reflexive relation is from $A \\to A$.\n",
    "- $B = \\{a, b, c\\}$, and for every element in $B$, there is no pair $(a, a)$ in $S$.\n",
    "- The same applies with $C$.\n",
    "- $\\therefore \\ S$ is **not** a reflexive relation."
   ]
  },
  {
   "cell_type": "code",
   "execution_count": 7,
   "metadata": {},
   "outputs": [
    {
     "name": "stdout",
     "output_type": "stream",
     "text": [
      "Relation: {('a', 'y'), ('c', 'y'), ('b', 'x'), ('c', 'z')}\n",
      "Reflexive with B: False\n",
      "Reflexive with C: False\n"
     ]
    }
   ],
   "source": [
    "B = {'a', 'b', 'c'}\n",
    "C = {'x', 'y', 'z'}\n",
    "\n",
    "S = {('a', 'y'), ('b', 'x'), ('c', 'y'), ('c', 'z')}\n",
    "\n",
    "print(f\"Relation: {S}\")\n",
    "print(f\"Reflexive with B: {is_reflexive(S, B)}\")\n",
    "print(f\"Reflexive with C: {is_reflexive(S, C)}\")"
   ]
  },
  {
   "cell_type": "markdown",
   "metadata": {},
   "source": [
    "## 9. Check if $S$ is a symmetric relation.\n",
    "\n",
    "- A relation is symmetric if $(a, b) \\in S$ and $(b, a) \\in S$.\n",
    "- Lets check every pair of elements of $S$:\n",
    "  - $(a, y)$ is in $S$, $(y, a)$ is not in $S$.\n",
    "  - $(b, x)$ is in $S$, $(x, b)$ is not in $S$.\n",
    "  - $(c, y)$ is in $S$, $(y, c)$ is not in $S$.\n",
    "  - $(c, z)$ is in $S$, $(z, c)$ is not in $S$.\n",
    "- $\\therefore \\ S$ is **not** symmetric relation."
   ]
  },
  {
   "cell_type": "code",
   "execution_count": 8,
   "metadata": {},
   "outputs": [
    {
     "name": "stdout",
     "output_type": "stream",
     "text": [
      "Relation: {('a', 'y'), ('c', 'y'), ('b', 'x'), ('c', 'z')}\n",
      "Symmetric: False\n"
     ]
    }
   ],
   "source": [
    "S = {('a', 'y'), ('b', 'x'), ('c', 'y'), ('c', 'z')}\n",
    "\n",
    "print(f\"Relation: {S}\")\n",
    "print(f\"Symmetric: {is_symmetric(S)}\")"
   ]
  },
  {
   "cell_type": "markdown",
   "metadata": {},
   "source": [
    "# 3. Given $A = \\{1, 2, 3, 4\\}$.<hr />\n",
    "\n",
    "Let $R$ be a relation from $A \\to B$:\n",
    "\n",
    "$R = \\{\\{1, 1\\},\\{2, 2\\},\\{2, 3\\},\\{3, 2\\},\\{4, 2\\},\\{4, 4\\}\\}$\n",
    "\n",
    "1. Find the composition relation $R \\circ R$.\n",
    "2. Draw the directed graph of $R^{-1}$.\n",
    "3. Draw the directed graph of $R$."
   ]
  },
  {
   "cell_type": "markdown",
   "metadata": {},
   "source": [
    "## 1. Find the composition relation of $R \\circ R$.\n",
    "\n",
    "- If some $b \\in B$ we have $aRb$ and $bRc$.\n",
    "- $R \\circ R = \\{(a, c) | \\exists b \\in B$ for which $(a, b) \\in R$ and $(b, c) \\in R \\}$\n",
    "- $\\therefore \\ R \\circ R = \\{\\{1, 1\\}, \\{2, 2\\}, \\{2, 3\\}, \\{3, 2\\}, \\{3, 3\\}, \\{4, 2\\}, \\{4, 3\\}, \\{4, 4\\}\\}$"
   ]
  },
  {
   "cell_type": "markdown",
   "metadata": {},
   "source": [
    "## 2. Draw the directed graph of $R^{-1}$."
   ]
  },
  {
   "cell_type": "code",
   "execution_count": 9,
   "metadata": {},
   "outputs": [
    {
     "data": {
      "image/svg+xml": [
       "<?xml version=\"1.0\" encoding=\"UTF-8\" standalone=\"no\"?>\n",
       "<!DOCTYPE svg PUBLIC \"-//W3C//DTD SVG 1.1//EN\"\n",
       " \"http://www.w3.org/Graphics/SVG/1.1/DTD/svg11.dtd\">\n",
       "<!-- Generated by graphviz version 8.1.0 (20230707.0739)\n",
       " -->\n",
       "<!-- Pages: 1 -->\n",
       "<svg width=\"260pt\" height=\"116pt\"\n",
       " viewBox=\"0.00 0.00 260.00 116.00\" xmlns=\"http://www.w3.org/2000/svg\" xmlns:xlink=\"http://www.w3.org/1999/xlink\">\n",
       "<g id=\"graph0\" class=\"graph\" transform=\"scale(1 1) rotate(0) translate(4 112)\">\n",
       "<polygon fill=\"white\" stroke=\"none\" points=\"-4,4 -4,-112 256,-112 256,4 -4,4\"/>\n",
       "<!-- 4 -->\n",
       "<g id=\"node1\" class=\"node\">\n",
       "<title>4</title>\n",
       "<ellipse fill=\"none\" stroke=\"black\" cx=\"27\" cy=\"-18\" rx=\"27\" ry=\"18\"/>\n",
       "<text text-anchor=\"middle\" x=\"27\" y=\"-12.57\" font-family=\"Times New Roman,serif\" font-size=\"14.00\">4</text>\n",
       "</g>\n",
       "<!-- 4&#45;&gt;4 -->\n",
       "<g id=\"edge1\" class=\"edge\">\n",
       "<title>4&#45;&gt;4</title>\n",
       "<path fill=\"none\" stroke=\"black\" d=\"M46.9,-30.43C59.69,-33.68 72,-29.53 72,-18 72,-9.89 65.91,-5.44 57.85,-4.63\"/>\n",
       "<polygon fill=\"black\" stroke=\"black\" points=\"57.56,-1.23 47.9,-5.57 58.16,-8.2 57.56,-1.23\"/>\n",
       "</g>\n",
       "<!-- 2 -->\n",
       "<g id=\"node2\" class=\"node\">\n",
       "<title>2</title>\n",
       "<ellipse fill=\"none\" stroke=\"black\" cx=\"117\" cy=\"-90\" rx=\"27\" ry=\"18\"/>\n",
       "<text text-anchor=\"middle\" x=\"117\" y=\"-84.58\" font-family=\"Times New Roman,serif\" font-size=\"14.00\">2</text>\n",
       "</g>\n",
       "<!-- 2&#45;&gt;4 -->\n",
       "<g id=\"edge2\" class=\"edge\">\n",
       "<title>2&#45;&gt;4</title>\n",
       "<path fill=\"none\" stroke=\"black\" d=\"M100.07,-75.83C86.71,-65.44 67.84,-50.76 52.63,-38.93\"/>\n",
       "<polygon fill=\"black\" stroke=\"black\" points=\"55.2,-35.72 45.16,-32.35 50.9,-41.25 55.2,-35.72\"/>\n",
       "</g>\n",
       "<!-- 2&#45;&gt;2 -->\n",
       "<g id=\"edge4\" class=\"edge\">\n",
       "<title>2&#45;&gt;2</title>\n",
       "<path fill=\"none\" stroke=\"black\" d=\"M136.9,-102.43C149.69,-105.68 162,-101.53 162,-90 162,-81.89 155.91,-77.44 147.85,-76.63\"/>\n",
       "<polygon fill=\"black\" stroke=\"black\" points=\"147.56,-73.23 137.9,-77.57 148.16,-80.2 147.56,-73.23\"/>\n",
       "</g>\n",
       "<!-- 3 -->\n",
       "<g id=\"node4\" class=\"node\">\n",
       "<title>3</title>\n",
       "<ellipse fill=\"none\" stroke=\"black\" cx=\"117\" cy=\"-18\" rx=\"27\" ry=\"18\"/>\n",
       "<text text-anchor=\"middle\" x=\"117\" y=\"-12.57\" font-family=\"Times New Roman,serif\" font-size=\"14.00\">3</text>\n",
       "</g>\n",
       "<!-- 2&#45;&gt;3 -->\n",
       "<g id=\"edge3\" class=\"edge\">\n",
       "<title>2&#45;&gt;3</title>\n",
       "<path fill=\"none\" stroke=\"black\" d=\"M111.12,-72.05C110.31,-64.4 110.06,-55.16 110.39,-46.56\"/>\n",
       "<polygon fill=\"black\" stroke=\"black\" points=\"113.93,-47.01 111.14,-36.79 106.95,-46.52 113.93,-47.01\"/>\n",
       "</g>\n",
       "<!-- 1 -->\n",
       "<g id=\"node3\" class=\"node\">\n",
       "<title>1</title>\n",
       "<ellipse fill=\"none\" stroke=\"black\" cx=\"207\" cy=\"-90\" rx=\"27\" ry=\"18\"/>\n",
       "<text text-anchor=\"middle\" x=\"207\" y=\"-84.58\" font-family=\"Times New Roman,serif\" font-size=\"14.00\">1</text>\n",
       "</g>\n",
       "<!-- 1&#45;&gt;1 -->\n",
       "<g id=\"edge5\" class=\"edge\">\n",
       "<title>1&#45;&gt;1</title>\n",
       "<path fill=\"none\" stroke=\"black\" d=\"M226.9,-102.43C239.69,-105.68 252,-101.53 252,-90 252,-81.89 245.91,-77.44 237.85,-76.63\"/>\n",
       "<polygon fill=\"black\" stroke=\"black\" points=\"237.56,-73.23 227.9,-77.57 238.16,-80.2 237.56,-73.23\"/>\n",
       "</g>\n",
       "<!-- 3&#45;&gt;2 -->\n",
       "<g id=\"edge6\" class=\"edge\">\n",
       "<title>3&#45;&gt;2</title>\n",
       "<path fill=\"none\" stroke=\"black\" d=\"M122.86,-35.79C123.68,-43.42 123.93,-52.65 123.62,-61.27\"/>\n",
       "<polygon fill=\"black\" stroke=\"black\" points=\"120.07,-60.84 122.88,-71.05 127.06,-61.32 120.07,-60.84\"/>\n",
       "</g>\n",
       "</g>\n",
       "</svg>\n"
      ],
      "text/plain": [
       "<graphviz.sources.Source at 0x1bb25685510>"
      ]
     },
     "execution_count": 9,
     "metadata": {},
     "output_type": "execute_result"
    }
   ],
   "source": [
    "R = {(1, 1,), (2, 2), (2, 3), (3, 2), (4, 2), (4, 4)}\n",
    "\n",
    "inverse_R = {(b, a) for (a, b) in R}\n",
    "\n",
    "draw_directed_graph(inverse_R)\n",
    "Source.from_file('multig.dot')\n"
   ]
  },
  {
   "cell_type": "markdown",
   "metadata": {},
   "source": [
    "## 3. Draw the directed graph of $R$."
   ]
  },
  {
   "cell_type": "code",
   "execution_count": 10,
   "metadata": {},
   "outputs": [
    {
     "data": {
      "image/svg+xml": [
       "<?xml version=\"1.0\" encoding=\"UTF-8\" standalone=\"no\"?>\n",
       "<!DOCTYPE svg PUBLIC \"-//W3C//DTD SVG 1.1//EN\"\n",
       " \"http://www.w3.org/Graphics/SVG/1.1/DTD/svg11.dtd\">\n",
       "<!-- Generated by graphviz version 8.1.0 (20230707.0739)\n",
       " -->\n",
       "<!-- Pages: 1 -->\n",
       "<svg width=\"170pt\" height=\"188pt\"\n",
       " viewBox=\"0.00 0.00 170.00 188.00\" xmlns=\"http://www.w3.org/2000/svg\" xmlns:xlink=\"http://www.w3.org/1999/xlink\">\n",
       "<g id=\"graph0\" class=\"graph\" transform=\"scale(1 1) rotate(0) translate(4 184)\">\n",
       "<polygon fill=\"white\" stroke=\"none\" points=\"-4,4 -4,-184 166,-184 166,4 -4,4\"/>\n",
       "<!-- 4 -->\n",
       "<g id=\"node1\" class=\"node\">\n",
       "<title>4</title>\n",
       "<ellipse fill=\"none\" stroke=\"black\" cx=\"27\" cy=\"-162\" rx=\"27\" ry=\"18\"/>\n",
       "<text text-anchor=\"middle\" x=\"27\" y=\"-156.57\" font-family=\"Times New Roman,serif\" font-size=\"14.00\">4</text>\n",
       "</g>\n",
       "<!-- 4&#45;&gt;4 -->\n",
       "<g id=\"edge1\" class=\"edge\">\n",
       "<title>4&#45;&gt;4</title>\n",
       "<path fill=\"none\" stroke=\"black\" d=\"M46.9,-174.43C59.69,-177.68 72,-173.53 72,-162 72,-153.89 65.91,-149.44 57.85,-148.63\"/>\n",
       "<polygon fill=\"black\" stroke=\"black\" points=\"57.56,-145.23 47.9,-149.57 58.16,-152.2 57.56,-145.23\"/>\n",
       "</g>\n",
       "<!-- 2 -->\n",
       "<g id=\"node2\" class=\"node\">\n",
       "<title>2</title>\n",
       "<ellipse fill=\"none\" stroke=\"black\" cx=\"27\" cy=\"-90\" rx=\"27\" ry=\"18\"/>\n",
       "<text text-anchor=\"middle\" x=\"27\" y=\"-84.58\" font-family=\"Times New Roman,serif\" font-size=\"14.00\">2</text>\n",
       "</g>\n",
       "<!-- 4&#45;&gt;2 -->\n",
       "<g id=\"edge2\" class=\"edge\">\n",
       "<title>4&#45;&gt;2</title>\n",
       "<path fill=\"none\" stroke=\"black\" d=\"M27,-143.7C27,-136.24 27,-127.32 27,-118.97\"/>\n",
       "<polygon fill=\"black\" stroke=\"black\" points=\"30.5,-119.1 27,-109.1 23.5,-119.1 30.5,-119.1\"/>\n",
       "</g>\n",
       "<!-- 2&#45;&gt;2 -->\n",
       "<g id=\"edge4\" class=\"edge\">\n",
       "<title>2&#45;&gt;2</title>\n",
       "<path fill=\"none\" stroke=\"black\" d=\"M46.9,-102.43C59.69,-105.68 72,-101.53 72,-90 72,-81.89 65.91,-77.44 57.85,-76.63\"/>\n",
       "<polygon fill=\"black\" stroke=\"black\" points=\"57.56,-73.23 47.9,-77.57 58.16,-80.2 57.56,-73.23\"/>\n",
       "</g>\n",
       "<!-- 3 -->\n",
       "<g id=\"node3\" class=\"node\">\n",
       "<title>3</title>\n",
       "<ellipse fill=\"none\" stroke=\"black\" cx=\"27\" cy=\"-18\" rx=\"27\" ry=\"18\"/>\n",
       "<text text-anchor=\"middle\" x=\"27\" y=\"-12.57\" font-family=\"Times New Roman,serif\" font-size=\"14.00\">3</text>\n",
       "</g>\n",
       "<!-- 2&#45;&gt;3 -->\n",
       "<g id=\"edge3\" class=\"edge\">\n",
       "<title>2&#45;&gt;3</title>\n",
       "<path fill=\"none\" stroke=\"black\" d=\"M21.12,-72.05C20.31,-64.4 20.06,-55.16 20.39,-46.56\"/>\n",
       "<polygon fill=\"black\" stroke=\"black\" points=\"23.93,-47.01 21.14,-36.79 16.95,-46.52 23.93,-47.01\"/>\n",
       "</g>\n",
       "<!-- 3&#45;&gt;2 -->\n",
       "<g id=\"edge5\" class=\"edge\">\n",
       "<title>3&#45;&gt;2</title>\n",
       "<path fill=\"none\" stroke=\"black\" d=\"M32.86,-35.79C33.68,-43.42 33.93,-52.65 33.62,-61.27\"/>\n",
       "<polygon fill=\"black\" stroke=\"black\" points=\"30.07,-60.84 32.88,-71.05 37.06,-61.32 30.07,-60.84\"/>\n",
       "</g>\n",
       "<!-- 1 -->\n",
       "<g id=\"node4\" class=\"node\">\n",
       "<title>1</title>\n",
       "<ellipse fill=\"none\" stroke=\"black\" cx=\"117\" cy=\"-162\" rx=\"27\" ry=\"18\"/>\n",
       "<text text-anchor=\"middle\" x=\"117\" y=\"-156.57\" font-family=\"Times New Roman,serif\" font-size=\"14.00\">1</text>\n",
       "</g>\n",
       "<!-- 1&#45;&gt;1 -->\n",
       "<g id=\"edge6\" class=\"edge\">\n",
       "<title>1&#45;&gt;1</title>\n",
       "<path fill=\"none\" stroke=\"black\" d=\"M136.9,-174.43C149.69,-177.68 162,-173.53 162,-162 162,-153.89 155.91,-149.44 147.85,-148.63\"/>\n",
       "<polygon fill=\"black\" stroke=\"black\" points=\"147.56,-145.23 137.9,-149.57 148.16,-152.2 147.56,-145.23\"/>\n",
       "</g>\n",
       "</g>\n",
       "</svg>\n"
      ],
      "text/plain": [
       "<graphviz.sources.Source at 0x1bb254e1110>"
      ]
     },
     "execution_count": 10,
     "metadata": {},
     "output_type": "execute_result"
    }
   ],
   "source": [
    "R = {(1, 1,), (2, 2), (2, 3), (3, 2), (4, 2), (4, 4)}\n",
    "\n",
    "draw_directed_graph(R)\n",
    "Source.from_file('multig.dot')\n"
   ]
  },
  {
   "cell_type": "markdown",
   "metadata": {},
   "source": [
    "# 4. Let $R$ and $S$ be relations on $A = \\{1, 2, 3\\}$<hr />\n",
    "\n",
    "$R = \\{\\{2, 3\\}, \\{1, 2\\}, \\{3, 3\\}, \\{3, 1\\}, \\{1, 1\\}\\}$\n",
    "\n",
    "$S = \\{\\{1, 2\\}, \\{3, 3\\}, \\{1, 3\\}, \\{2, 1\\}\\}$\n",
    "\n",
    "1. $R \\cup S$.\n",
    "2. $R \\cap S$.\n",
    "3. $R^c$.\n",
    "4. $R \\circ S$.\n",
    "5. $S \\circ S$."
   ]
  },
  {
   "cell_type": "markdown",
   "metadata": {},
   "source": [
    "## 1. $R \\cup S$.\n",
    "\n",
    "- $R \\cup S = \\{\\{2, 3\\}, \\{1, 2\\}, \\{3, 3\\}, \\{3, 1\\}, \\{1, 1\\}\\} \\cup \\{\\{1, 2\\}, \\{3, 3\\}, \\{1, 3\\}, \\{2, 1\\}\\}$\n",
    "- $\\therefore \\ R \\cup S = \\{\\{1, 1\\}, \\{1, 2\\}, \\{1, 3\\}, \\{2, 1\\}, \\{2, 3\\}, \\{3, 1\\}, \\{3, 3\\}\\}$\n",
    "\n",
    "## 2. $R \\cap S$.\n",
    "\n",
    "- $R \\cap S = \\{\\{2, 3\\}, \\{1, 2\\}, \\{3, 3\\}, \\{3, 1\\}, \\{1, 1\\}\\} \\cap \\{\\{1, 2\\}, \\{3, 3\\}, \\{1, 3\\}, \\{2, 1\\}\\}$\n",
    "- $\\therefore \\ R \\cap S = \\{\\{1, 2\\}, \\{3, 3\\}\\}$\n",
    "\n",
    "## 3. $R^c$.\n",
    "\n",
    "- $R^c = (A \\times A) \\setminus R$\n",
    "- $R^c = \\{\\{1, 2\\}, \\{2, 1\\}, \\{3, 1\\}, \\{1, 1\\}, \\{2, 3\\}, \\{3, 3\\}, \\{2, 2\\}, \\{3, 2\\}, \\{1, 3\\}\\} \\setminus \\{\\{2, 3\\}, \\{1, 2\\}, \\{3, 3\\}, \\{3, 1\\}, \\{1, 1\\}\\}$\n",
    "- $\\therefore \\ R^c = \\{\\{1, 3\\}, \\{2, 1\\}, \\{2, 2\\}, \\{3, 2\\}\\}$\n",
    "\n",
    "## 4. $R \\circ S$.\n",
    "\n",
    "- $R \\circ S = \\{(a, c) | \\exists b \\in B$ for which $(a, b) \\in R$ and $(b, c) \\in S \\}$\n",
    "- $\\therefore R \\circ S = \\{\\{1, 1\\}, \\{1, 2\\}, \\{1, 3\\}, \\{2, 3\\}, \\{3, 2\\}, \\{3, 3\\}\\}$\n",
    "\n",
    "## 5. $S \\circ S$.\n",
    "\n",
    "- $S \\circ S = \\{(a, c) | \\exists b \\in B$ for which $(a, b) \\in S$ and $(b, c) \\in S \\}$\n",
    "- $\\therefore S \\circ S = \\{\\{1, 1\\}, \\{1, 3\\}, \\{2, 2\\}, \\{2, 3\\}, \\{3, 3\\}\\}$\n",
    "\n"
   ]
  },
  {
   "cell_type": "markdown",
   "metadata": {},
   "source": [
    "# 5. Consider the five relations on the set $A = \\{1, 2, 3\\}$<hr />\n",
    "\n",
    "$R = \\{\\{1, 1\\}, \\{1, 2\\}, \\{1, 3\\}, \\{3, 3\\}\\}$\n",
    "\n",
    "$S = \\{\\{1, 2\\}, \\{3, 3\\}, \\{2, 1\\}, \\{2, 2\\}, \\{1, 1\\}\\}$\n",
    "\n",
    "$T = \\{\\{2, 3\\}, \\{1, 1\\}, \\{1, 2\\}, \\{2, 2\\}\\}$\n",
    "\n",
    "Which of the relations above are:\n",
    "1. Reflexive.\n",
    "2. Symmetric or anti-symmetric.\n",
    "3. Transitive."
   ]
  },
  {
   "cell_type": "markdown",
   "metadata": {},
   "source": [
    "## 1. Reflexive.\n",
    "\n",
    "- $R$ does not contain a pair $(2, 2)$.\n",
    "- $T$ does not contain a pair $(3, 3)$.\n",
    "- $R$ and $T$ are not reflexive, since $R$ and $T$ does not contain every pair of element $(a, a)$ in $A$.\n",
    "- $S$ is reflexive, since every pair of elements of $A$ are in $R$.\n",
    "- $\\therefore \\ S$ is the only reflexive relation."
   ]
  },
  {
   "cell_type": "code",
   "execution_count": 11,
   "metadata": {},
   "outputs": [
    {
     "name": "stdout",
     "output_type": "stream",
     "text": [
      "R reflexive: False\n",
      "S reflexive: True\n",
      "T reflexive: False\n"
     ]
    }
   ],
   "source": [
    "A = {1, 2, 3}\n",
    "\n",
    "R = {(1, 1), (1, 2), (1, 3), (3, 3)}\n",
    "S = {(1, 1), (1, 2), (2, 1), (2, 2), (3, 3)}\n",
    "T = {(1, 1), (1, 2), (2, 2), (2, 3)}\n",
    "\n",
    "print(f\"R reflexive: {is_reflexive(R, A)}\")\n",
    "print(f\"S reflexive: {is_reflexive(S, A)}\")\n",
    "print(f\"T reflexive: {is_reflexive(T, A)}\")"
   ]
  },
  {
   "cell_type": "markdown",
   "metadata": {},
   "source": [
    "## 2. Symmetric or anti-symmetric.\n",
    "\n",
    "- Lets check every pair of elements of $R$:\n",
    "  - $(1, 1)$ is in $R$, $(1, 1)$ is in $R$.\n",
    "  - $(1, 2)$ is in $R$, $(2, 1)$ is not in $R$.\n",
    "  - $(1, 3)$ is in $R$, $(3, 1)$ is not in $R$.\n",
    "  - $(3, 3)$ is in $R$, $(3, 3)$ is in $R$.\n",
    "- Lets check every pair of elements of $S$:\n",
    "  - $(1, 1)$ is in $S$, $(1, 1)$ is in $S$.\n",
    "  - $(1, 2)$ is in $S$, $(2, 1)$ is in $S$.\n",
    "  - $(2, 1)$ is in $S$, $(1, 2)$ is in $S$.\n",
    "  - $(2, 2)$ is in $S$, $(2, 2)$ is in $S$.\n",
    "  - $(3, 3)$ is in $S$, $(3, 3)$ is in $S$.\n",
    "- Lets check every pair of elements of $T$:\n",
    "  - $(1, 1)$ is in $T$, $(1, 1)$ is in $T$.\n",
    "  - $(1, 2)$ is in $T$, $(2, 1)$ is not in $T$.\n",
    "  - $(2, 2)$ is in $T$, $(2, 2)$ is in $T$.\n",
    "  - $(2, 3)$ is in $T$, $(3, 2)$ is not in $T$.\n",
    "- $\\therefore \\ S$ is the only symmetric, while $R$ and $T$ are anti-symmetric."
   ]
  },
  {
   "cell_type": "code",
   "execution_count": 12,
   "metadata": {},
   "outputs": [
    {
     "name": "stdout",
     "output_type": "stream",
     "text": [
      "R symmetric: False\n",
      "S symmetric: True\n",
      "T symmetric: False\n",
      "\n",
      "R antisymmetric: True\n",
      "S antisymmetric: False\n",
      "T antisymmetric: True\n"
     ]
    }
   ],
   "source": [
    "R = {(1, 1), (1, 2), (1, 3), (3, 3)}\n",
    "S = {(1, 1), (1, 2), (2, 1), (2, 2), (3, 3)}\n",
    "T = {(1, 1), (1, 2), (2, 2), (2, 3)}\n",
    "\n",
    "print(f\"R symmetric: {is_symmetric(R)}\")\n",
    "print(f\"S symmetric: {is_symmetric(S)}\")\n",
    "print(f\"T symmetric: {is_symmetric(T)}\\n\")\n",
    "\n",
    "print(f\"R antisymmetric: {is_antisymmetric(R)}\")\n",
    "print(f\"S antisymmetric: {is_antisymmetric(S)}\")\n",
    "print(f\"T antisymmetric: {is_antisymmetric(T)}\")\n"
   ]
  },
  {
   "cell_type": "markdown",
   "metadata": {},
   "source": [
    "## 3. Transitive.\n",
    "\n",
    "- If $(a, b) \\in R$ and $(b, c) \\in R$ then $(a, c) \\in R, \\forall \\ a, b, c \\in R$.\n",
    "- Only check $(a, b)$ of $R$ and $(b, c)$ of $R$, where in $(a, c) \\notin R$:\n",
    "  - $(3, 3)$ and $(3, 1)$ are in $R$, $(3, 1)$ is not in $R$.\n",
    "  - $(3, 3)$ and $(3, 2)$ are in $R$, $(3, 2)$ is not in $R$.\n",
    "- Only check $(a, b)$ of $S$ and $(b, c)$ of $S$, where in $(a, c) \\notin S$.\n",
    "  - $(1, 2)$ and $(2, 3)$ are in $S$, $(1, 3)$ is not in $S$\n",
    "  - $(3, 3)$ and $(3, 2)$ are in $S$, $(3, 2)$ is not in $S$\n",
    "  - $(3, 3)$ and $(3, 1)$ are in $S$, $(3, 1)$ is not in $S$\n",
    "  - $(3, 3)$ and $(3, 2)$ are in $S$, $(3, 2)$ is not in $S$\n",
    "  - $(3, 3)$ and $(3, 1)$ are in $S$, $(3, 1)$ is not in $S$\n",
    "  - $(2, 1)$ and $(1, 3)$ are in $S$, $(2, 3)$ is not in $S$\n",
    "  - $(2, 2)$ and $(2, 3)$ are in $S$, $(2, 3)$ is not in $S$\n",
    "  - $(1, 1)$ and $(1, 3)$ are in $S$, $(1, 3)$ is not in $S$\n",
    "- Only check $(a, b)$ of $T$ and $(b, c)$ of $T$, where in $(a, c) \\notin T$.\n",
    "  - $(2, 3)$ and $(3, 1)$ are in $T$, $(2, 1)$ is not in $T$\n",
    "  - $(1, 1)$ and $(1, 3)$ are in $T$, $(1, 3)$ is not in $T$\n",
    "  - $(2, 2)$ and $(2, 1)$ are in $T$, $(2, 1)$ is not in $T$\n",
    "- $\\therefore \\ R, S,$ and $T$ are not transitive."
   ]
  },
  {
   "cell_type": "code",
   "execution_count": 13,
   "metadata": {},
   "outputs": [
    {
     "name": "stdout",
     "output_type": "stream",
     "text": [
      "R transitive: False\n",
      "R transitive: False\n",
      "R transitive: False\n"
     ]
    }
   ],
   "source": [
    "R = {(1, 1), (1, 2), (1, 3), (3, 3)}\n",
    "S = {(1, 1), (1, 2), (2, 1), (2, 2), (3, 3)}\n",
    "T = {(1, 1), (1, 2), (2, 2), (2, 3)}\n",
    "\n",
    "print(f\"R transitive: {is_transitive(R)}\")\n",
    "print(f\"R transitive: {is_transitive(S)}\")\n",
    "print(f\"R transitive: {is_transitive(T)}\")"
   ]
  }
 ],
 "metadata": {
  "kernelspec": {
   "display_name": "Python 3",
   "language": "python",
   "name": "python3"
  },
  "language_info": {
   "codemirror_mode": {
    "name": "ipython",
    "version": 3
   },
   "file_extension": ".py",
   "mimetype": "text/x-python",
   "name": "python",
   "nbconvert_exporter": "python",
   "pygments_lexer": "ipython3",
   "version": "3.11.4"
  },
  "orig_nbformat": 4
 },
 "nbformat": 4,
 "nbformat_minor": 2
}
