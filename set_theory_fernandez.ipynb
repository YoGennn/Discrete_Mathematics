{
 "cells": [
  {
   "cell_type": "code",
   "execution_count": 12,
   "metadata": {},
   "outputs": [],
   "source": [
    "from matplotlib_venn import venn2, venn3\n",
    "from matplotlib import pyplot as plt"
   ]
  },
  {
   "cell_type": "code",
   "execution_count": 13,
   "metadata": {},
   "outputs": [],
   "source": [
    "def draw_venn2_list(list: [set, set], labels=(\"A\", \"B\")):\n",
    "\tA = list[0]\n",
    "\tB = list[1]\n",
    "\t\n",
    "\tvenn = venn2([A, B],set_labels = labels)\n",
    "\tvenn.get_label_by_id(\"01\").set_text(\", \".join(map(str, B-A)))\n",
    "\tvenn.get_label_by_id(\"10\").set_text(\", \".join(map(str,A-B)))\n",
    "\n",
    "\tintersection = A & B\n",
    "\n",
    "\tif intersection:\n",
    "\t\tvenn.get_label_by_id(\"11\").set_text(\", \".join(map(str, intersection)))\n",
    "\n",
    "def draw_venn2_size(list: [set, set] = None, labels = (\"A\", \"B\"), subsets = (int, int, int), title = \"\"):\n",
    "\tif list:\n",
    "\t\tvenn2(list,  set_labels=labels)\n",
    "\telse:\n",
    "\t\tvenn2(subsets=subsets, set_labels=labels)\n",
    "\tplt.title(title)\n",
    "\tplt.show()\n"
   ]
  },
  {
   "cell_type": "markdown",
   "metadata": {},
   "source": [
    "Jojenn Fernandez\n",
    "BSIT - 1\n",
    "September 1, 2023\n",
    "CIS 1103 Group 5"
   ]
  },
  {
   "cell_type": "markdown",
   "metadata": {},
   "source": [
    "# 1. Proving Identities<hr>"
   ]
  },
  {
   "cell_type": "markdown",
   "metadata": {},
   "source": [
    "### $A \\setminus B = A \\cap B^c$"
   ]
  },
  {
   "cell_type": "markdown",
   "metadata": {},
   "source": [
    "- Suppose $x \\in A \\setminus B$, then $x \\in A \\land x \\notin B$.\n",
    "- If $x \\notin B$ then $x \\in B^c$.\n",
    "- If $x \\in A \\land x \\in B^c \\therefore x \\in A \\cap B^c$."
   ]
  },
  {
   "cell_type": "markdown",
   "metadata": {},
   "source": [
    "### $B = (B \\cap A) \\cup (B \\cap A^c)$"
   ]
  },
  {
   "cell_type": "markdown",
   "metadata": {},
   "source": [
    "s- Let $x \\in B$.<br>\n",
    "- Since $x \\in B$, it satisfies either the two cases:\n",
    "    - $x \\in A$, in which case $x \\in B \\land x \\in A$, thus $x \\in B \\cap A$.\n",
    "    - $x \\notin A$, in which case $x \\in B \\land x \\in A^c$, thus $x \\in B \\cap A^c$.\n",
    "- If $x \\in A \\lor x \\notin A$, $\\therefore x \\in (B \\cap A) \\cup (B \\cap A^c)$."
   ]
  },
  {
   "cell_type": "markdown",
   "metadata": {},
   "source": [
    "### $B \\setminus A = B \\cap A^c$"
   ]
  },
  {
   "cell_type": "markdown",
   "metadata": {},
   "source": [
    "- Suppose $x \\in B \\setminus A$, then $x \\in B \\land x \\notin A$.\n",
    "- If $x \\notin A$ then $x \\in A^c$.\n",
    "- If $x \\in B \\land x \\in A^c$, $\\therefore x \\in B \\cap A^c$."
   ]
  },
  {
   "cell_type": "markdown",
   "metadata": {},
   "source": [
    "### $A \\cup B = A \\cup (B \\cap A^c)$"
   ]
  },
  {
   "cell_type": "markdown",
   "metadata": {},
   "source": [
    "- Suppose $x \\in A \\cup B$, then $x \\in A \\lor x \\in B$.\n",
    "- If $x \\in A$ then clearly $x \\in A \\cup (B \\cap A^c)$, since $B \\cap A^c$ is just $B$, and thus $A \\cup B$.\n",
    "- If $x \\in B$ then there are two cases:\n",
    "    - If $x \\notin A^c$ then $x \\in A$.\n",
    "    - If $x \\in A^c$ then $x \\in B \\land x \\in A^c$, and thus $x \\in B \\cap A^c$.\n",
    "- If $x \\in A^c \\lor x \\notin A^c$, $\\therefore x \\in A \\cup (B \\cap A^c)$."
   ]
  },
  {
   "cell_type": "markdown",
   "metadata": {},
   "source": [
    "### $\\bigcup_{i=1}^\\infty A_{i}^c = \\bigcap_{i=1}^\\infty A_i$"
   ]
  },
  {
   "cell_type": "markdown",
   "metadata": {},
   "source": [
    "- Let $x \\in \\bigcup_{i=1}^\\infty A_{i}^c$. This means that $x$ belongs to $A_i^c$ for $i = 1, 2 ...$.\n",
    "- If $x \\in A_i^c$ then for each $i$, it means that $x \\notin A_i$ for any $i$\n",
    "- $\\therefore x$ belongs to the intersection of all $A_i$ for $i = 1, 2, ...$, which is $x \\in \\bigcap_{i=1}^\\infty A_i$"
   ]
  },
  {
   "cell_type": "markdown",
   "metadata": {},
   "source": [
    "### $|A \\cup B| = |A| + |B| - |A \\cap B|$"
   ]
  },
  {
   "cell_type": "markdown",
   "metadata": {},
   "source": [
    "- The size of the union of two set is given by the sum of the sizes of each set minus the size of their intersection:\n",
    "  - $|A \\cup B| = |A| + |B| - |A \\cap B|$\n",
    "- To prove this identity we'll break down the elements of $A \\cup B$ into three categories: those in $A$ only, those in $B$ only, and those in both $A$ and $B$.\n",
    "  1. Elements in $A$ only:\n",
    "     - The number of elements in this category is $|A| - |A \\cap B|$.\n",
    "  2. Elements in $B$ only:\n",
    "     - The number of elements in this category is $|B| - |A \\cap B|$.\n",
    "  3. Elements in both $A$ and $B$.\n",
    "     - The number of elements in this category is $|A \\cap B|$.\n",
    "- Adding up this categories gives:\n",
    "  - $|A \\cup B| =$ (Elements in $A$ only) $+$ (Elements in $B$ only) $+$ (Elements in both $A$ and $B$)\n",
    "  - $|A \\cup B| = (|A| - |A \\cap B|) + (|B| - |A \\cap B|) + |A \\cap B|$\n",
    "  - This is the same as $|A| + |B| - |A \\cap B|$\n",
    "- $\\therefore$ This concludes the proof of the set cardinality formula using the inclusion-exclusion principle."
   ]
  },
  {
   "cell_type": "markdown",
   "metadata": {},
   "source": [
    "# 2. Sets and Subsets<hr>"
   ]
  },
  {
   "cell_type": "markdown",
   "metadata": {},
   "source": [
    "### If $A =  \\{2, 3, 4, 5\\} $, and $B = \\{x \\in \\mathbb N | x \\ is \\ even\\}$. Is $A \\subset B$? Show a proof."
   ]
  },
  {
   "cell_type": "markdown",
   "metadata": {},
   "source": [
    "- To determine if $A$ is a proper subset of $B$, we need to verify if every element on $A$ is also an element of $B$.\n",
    "- $A$ is a finite set containing $2, 3, 4,$ and $5$, while $B$ contains all natural even numbers.\n",
    "- Let's go through the elements in $A$ and check if they are also in $B$:\n",
    "  - Element $2$ is even, so it is in $B$.\n",
    "  - Element $3$ is odd, so it is not in $B$.\n",
    "  - Element $4$ is even, so it is in $B$.\n",
    "  - Element $5$ is odd, so it is not in $B$.\n",
    "- Since not all of the elements of $A$ are in $B$, we can conclude that $A$ is not a subset of $B$.\n",
    "- $\\therefore$ the statement $A \\subset B$ is false."
   ]
  },
  {
   "cell_type": "markdown",
   "metadata": {},
   "source": [
    "### Let sets $A = \\{x | x \\in \\mathbb Z, 0 \\leq x \\leq 9\\}$, $B = \\{2, 4, 6, 8\\}$, and $C = \\{1, 3, 5, 7, 9\\}$ and $D = \\{3, 4, 5\\}$ Find a set $X$ which will satisfy the following conditions:\n",
    "  1. $X$ and $B$ are disjoint.\n",
    "  2. $X \\subseteq D$ but $X \\not\\subseteq B$.\n",
    "  3. $X \\subseteq A$ but $X \\not\\subset C$."
   ]
  },
  {
   "cell_type": "code",
   "execution_count": 14,
   "metadata": {},
   "outputs": [],
   "source": [
    "# Given data\n",
    "A = {x for x in range(0, 10)}\n",
    "B = {2, 4, 6, 8}\n",
    "C = {1, 3, 5, 7, 9}\n",
    "D = {3, 4, 5}"
   ]
  },
  {
   "cell_type": "markdown",
   "metadata": {},
   "source": [
    "#### 1. $X$ and $B$ are disjoint.\n"
   ]
  },
  {
   "cell_type": "markdown",
   "metadata": {},
   "source": [
    "- This means that $X$ and $B$ have no elements in common.\n",
    "- To achive this, we can choose $X$ such that it only contains elements that are not in $B$.\n",
    "- Suppose that the element of $X$ is a union of $A, B, C,$ and $D$.\n",
    "- $X = A \\cup B \\cup C \\cup D$.\n",
    "- $X = X \\setminus B$.\n",
    "- $X = \\{0, 1, 3, 5, 7, 9\\}$.\n",
    "- $X$ contains elements that are not in $B$, $\\therefore$ it is disjoint with $B$."
   ]
  },
  {
   "cell_type": "markdown",
   "metadata": {},
   "source": [
    "#### 2. $X \\subseteq D$ but $X \\not\\subseteq B$"
   ]
  },
  {
   "cell_type": "markdown",
   "metadata": {},
   "source": [
    "- This means that all of the elements of $X$ are in $D$.\n",
    "- However, $X$ must not be a subset of $B$, which means there should atleast be one element in $X$ that is not in $B$.\n",
    "- Suppose that the element of $X$ is a union of $A, B, C,$ and $D$.\n",
    "- $X = A \\cup B \\cup C \\cup D$.\n",
    "- $X = X \\cap D$.\n",
    "- Already, this elements of $X$ satisfy both conditions, since $D$ contains odd and even numbers and $B$ only contains even numbers.\n",
    "- It says that, atleast one element of $X$ must not be in $B$; element $4$ is not in $B$.\n",
    "- $\\therefore$ $X = \\{3, 4, 5\\}$ satisfy both conditions."
   ]
  },
  {
   "cell_type": "markdown",
   "metadata": {},
   "source": [
    "#### 3. $X \\subseteq A$ but $X \\not\\subset C$."
   ]
  },
  {
   "cell_type": "markdown",
   "metadata": {},
   "source": [
    "- Similarly with condition #$2$ all elements of $X$ must be in $A$ and not a proper subset of $C$.\n",
    "- Suppose that the element of $X$ is a union of $A, B, C,$ and $D$.\n",
    "- $X = A \\cup B \\cup C \\cup D$.\n",
    "- Already, all of the elements of $X$ are in $A$, which means that $X$ is a subset of $A$.\n",
    "- Also, $X$ is not a proper subset set of $C$, note atleast one element of $X$ must not be in $C$.\n",
    "- The following elements that are in $X$ but not in $C$: $X \\setminus C = \\{0, 2, 4, 6, 8\\}$\n",
    "- $\\therefore$ $X = \\{0, 1, 2, 3, 4, 5, 6, 7, 8, 9\\}$ satisfy both conditions. To further prove this solution a pythonic solution is provided."
   ]
  },
  {
   "cell_type": "code",
   "execution_count": 15,
   "metadata": {},
   "outputs": [
    {
     "name": "stdout",
     "output_type": "stream",
     "text": [
      "X ⊆ A and X ⊄ C: True\n"
     ]
    },
    {
     "data": {
      "image/png": "[encoded data removed]",
      "text/plain": [
       "<Figure size 432x288 with 1 Axes>"
      ]
     },
     "metadata": {},
     "output_type": "display_data"
    },
    {
     "data": {
      "image/png": "[encoded data removed]",
      "text/plain": [
       "<Figure size 432x288 with 1 Axes>"
      ]
     },
     "metadata": {},
     "output_type": "display_data"
    }
   ],
   "source": [
    "# Pythonic Solution\n",
    "\n",
    "X = A | B | C | D\n",
    "\n",
    "print(f\"X ⊆ A and X ⊄ C: {X <= A and not X < C}\")\n",
    "draw_venn2_size((X, A), (\"X\", \"A\"), title=\"Is X a subset of A?\")\n",
    "draw_venn2_size((X, C), (\"X\", \"C\"), title=\"Is X a subset of C?\")"
   ]
  },
  {
   "cell_type": "markdown",
   "metadata": {},
   "source": [
    "# 3. Set Operations<hr>"
   ]
  },
  {
   "cell_type": "markdown",
   "metadata": {},
   "source": [
    "### Given:\n",
    "$U = \\{1,2,3,4,5\\}$<br>\n",
    "$A = \\{1,2,3,4,5\\}$<br>\n",
    "$B = \\{4,5,6,7\\}$<br>\n",
    "$C = \\{5,6,7,8,9\\}$<br>\n",
    "$D = \\{1,3,5,7,9\\}$<br>\n",
    "$E = \\{2,4,6,8\\}$<br>\n",
    "$F = \\{1,5,9\\}$<br>\n",
    "- $C \\oplus D$\n",
    "- $A \\setminus B$\n",
    "- $B \\setminus A$\n",
    "- $E \\oplus F$"
   ]
  },
  {
   "cell_type": "code",
   "execution_count": 16,
   "metadata": {},
   "outputs": [],
   "source": [
    "# Given\n",
    "\n",
    "U = {1,2,3,4,5}\n",
    "A = {1,2,3,4,5}\n",
    "B = {4,5,6,7}\n",
    "C = {5,6,7,8,9}\n",
    "D = {1,3,5,7,9}\n",
    "E = {2,4,6,8}\n",
    "F = {1,5,9}"
   ]
  },
  {
   "cell_type": "markdown",
   "metadata": {},
   "source": [
    "#### $C \\oplus D$\n",
    "- $C = \\{5,6,7,8,9\\}$\n",
    "- $D = \\{1,3,5,7,9\\}$\n",
    "- $C \\oplus D = \\{1, 3, 6, 8\\}$"
   ]
  },
  {
   "cell_type": "code",
   "execution_count": 17,
   "metadata": {},
   "outputs": [
    {
     "name": "stdout",
     "output_type": "stream",
     "text": [
      "List C: {5, 6, 7, 8, 9}\n",
      "List D: {1, 3, 5, 7, 9}\n",
      "Symmetric Difference of C and D: {1, 3, 6, 8}\n"
     ]
    },
    {
     "data": {
      "image/png": "[encoded data removed]",
      "text/plain": [
       "<Figure size 432x288 with 1 Axes>"
      ]
     },
     "metadata": {},
     "output_type": "display_data"
    }
   ],
   "source": [
    "# Pythonic Solution\n",
    "\n",
    "draw_venn2_list([C, D], (\"C\", \"D\"))\n",
    "\n",
    "xor = C ^ D\n",
    "\n",
    "print(f\"List C: {C}\")\n",
    "print(f\"List D: {D}\")\n",
    "print(f\"Symmetric Difference of C and D: {xor}\")"
   ]
  },
  {
   "cell_type": "markdown",
   "metadata": {},
   "source": [
    "#### $A \\setminus B$\n",
    "- $A = \\{1,2,3,4,5\\}$\n",
    "- $B = \\{4,5,6,7\\}$\n",
    "- $A \\setminus B = \\{1, 2, 3\\}$"
   ]
  },
  {
   "cell_type": "code",
   "execution_count": 18,
   "metadata": {},
   "outputs": [
    {
     "name": "stdout",
     "output_type": "stream",
     "text": [
      "List A: {1, 2, 3, 4, 5}\n",
      "List B: {4, 5, 6, 7}\n",
      "Difference of B and A: {1, 2, 3}\n"
     ]
    },
    {
     "data": {
      "image/png": "[encoded data removed]",
      "text/plain": [
       "<Figure size 432x288 with 1 Axes>"
      ]
     },
     "metadata": {},
     "output_type": "display_data"
    }
   ],
   "source": [
    "# Pythonic Solution\n",
    "\n",
    "draw_venn2_list([A, B])\n",
    "\n",
    "diff = A - B\n",
    "\n",
    "print(f\"List A: {A}\")\n",
    "print(f\"List B: {B}\")\n",
    "print(f\"Difference of B and A: {diff}\")"
   ]
  },
  {
   "cell_type": "markdown",
   "metadata": {},
   "source": [
    "#### $B \\setminus A$\n",
    "- $B = \\{4,5,6,7\\}$\n",
    "- $A = \\{1,2,3,4,5\\}$\n",
    "- $B \\setminus A = \\{6, 7\\}$"
   ]
  },
  {
   "cell_type": "code",
   "execution_count": 19,
   "metadata": {},
   "outputs": [
    {
     "name": "stdout",
     "output_type": "stream",
     "text": [
      "List B: {4, 5, 6, 7}\n",
      "List A: {1, 2, 3, 4, 5}\n",
      "Difference of B and A: {6, 7}\n"
     ]
    },
    {
     "data": {
      "image/png": "[encoded data removed]",
      "text/plain": [
       "<Figure size 432x288 with 1 Axes>"
      ]
     },
     "metadata": {},
     "output_type": "display_data"
    }
   ],
   "source": [
    "# Pythonic Solution\n",
    "\n",
    "draw_venn2_list([B, A], (\"B\", \"A\"))\n",
    "\n",
    "diff = B - A\n",
    "\n",
    "print(f\"List B: {B}\")\n",
    "print(f\"List A: {A}\")\n",
    "print(f\"Difference of B and A: {diff}\")"
   ]
  },
  {
   "cell_type": "markdown",
   "metadata": {},
   "source": [
    "#### $E \\oplus F$\n",
    "- $E = \\{2,4,6,8\\}$\n",
    "- $F = \\{1,5,9\\}$\n",
    "- $E \\oplus F = \\{1, 2, 4, 5, 6, 8, 9\\}$"
   ]
  },
  {
   "cell_type": "code",
   "execution_count": 20,
   "metadata": {},
   "outputs": [
    {
     "name": "stdout",
     "output_type": "stream",
     "text": [
      "List E: {8, 2, 4, 6}\n",
      "List F: {1, 5, 9}\n",
      "Symmetric Difference of E and F: {1, 2, 4, 5, 6, 8, 9}\n"
     ]
    },
    {
     "data": {
      "image/png": "[encoded data removed]",
      "text/plain": [
       "<Figure size 432x288 with 1 Axes>"
      ]
     },
     "metadata": {},
     "output_type": "display_data"
    }
   ],
   "source": [
    "# Pythonic Solution\n",
    "\n",
    "draw_venn2_list([E, F], (\"E\", \"F\"))\n",
    "\n",
    "xor = E ^ F\n",
    "\n",
    "print(f\"List E: {E}\")\n",
    "print(f\"List F: {F}\")\n",
    "print(f\"Symmetric Difference of E and F: {xor}\")"
   ]
  },
  {
   "cell_type": "markdown",
   "metadata": {},
   "source": [
    "# 4. Finite Sets and The Counting Principles<hr>\n"
   ]
  },
  {
   "cell_type": "markdown",
   "metadata": {},
   "source": [
    "### In a Survey of 120 People, it was found that:\n",
    "- 65 read Newsweek Magazine\n",
    "- 45 read Times Magazine\n",
    "- 42 read Fortune Magazine\n",
    "- 20 read Both Newsweek and Time\n",
    "- 25 read both Newsweek and Fortune\n",
    "- 15 read both Time and Fortune\n",
    "- 8 read all three magazines\n",
    "\n",
    "### With these information do the following:\n",
    "1. Draw the venn diagram using python.\n",
    "2. Find the number of people who read at $\\textbf{\"least one\"}$ of the three magazines.\n",
    "3. Find the number of people who read exactly one magazine.\n"
   ]
  },
  {
   "cell_type": "code",
   "execution_count": 21,
   "metadata": {
    "notebookRunGroups": {
     "groupValue": ""
    }
   },
   "outputs": [
    {
     "data": {
      "image/png": "[encoded data removed]",
      "text/plain": [
       "<Figure size 432x288 with 1 Axes>"
      ]
     },
     "metadata": {},
     "output_type": "display_data"
    },
    {
     "name": "stdout",
     "output_type": "stream",
     "text": [
      "Number of people who read at \"LEAST ONE\" of the three magazines: 100\n",
      "Number of people who read exactly one magazine: 56\n"
     ]
    }
   ],
   "source": [
    "# Given data\n",
    "U = 120 # Number of people surveyed\n",
    "\n",
    "NM = 65 # Newsweek Magazine\n",
    "TM = 45 # Times Magazine\n",
    "FM = 42 # Fortune Magazine\n",
    "\n",
    "NM_n_TM = 20 # Newsweek intersection Times Magazine\n",
    "NM_n_FM = 25 # Newsweek intersection Fortune Magazine\n",
    "TM_n_FM = 15 # Times intersection Fortune Magazine\n",
    "\n",
    "all_inter = 8 # Intersection of the three magazines\n",
    "\n",
    "# Calculate individual sets\n",
    "only_NM = NM - (NM_n_TM + NM_n_FM) + all_inter\n",
    "only_TM = TM - (NM_n_TM + TM_n_FM) + all_inter\n",
    "only_FM = FM - (NM_n_FM + TM_n_FM) + all_inter\n",
    "\n",
    "# Calculate set1 and set2 but not in set3\n",
    "NM_n_TM_notin_FM = NM_n_TM - all_inter\n",
    "NM_n_FM_notin_TM = NM_n_FM - all_inter\n",
    "TM_n_FM_notin_NM = TM_n_FM - all_inter\n",
    "\n",
    "# Calculate the number of people who read exactly one magazine\n",
    "NM_n_TM_n_FM = only_NM + only_TM + only_FM\n",
    "\n",
    "# Calculate the number of people who read at \"LEAST ONE\" of the three magazines\n",
    "NM_u_TM_u_FM = NM_n_TM_n_FM + NM_n_TM_notin_FM + NM_n_FM_notin_TM + TM_n_FM_notin_NM + all_inter\n",
    "\n",
    "# Calculate the number of people that did not read any of the three magazines\n",
    "did_not_read = U - NM_u_TM_u_FM\n",
    "\n",
    "# Create the Venn diagram\n",
    "venn = venn3(\n",
    "\tsubsets=(\n",
    "\t\tonly_NM,\n",
    "\t\tonly_TM,\n",
    "\t\tNM_n_TM_notin_FM,\n",
    "\t\tonly_FM,\n",
    "\t\tNM_n_FM_notin_TM,\n",
    "\t\tTM_n_FM_notin_NM,\n",
    "\t\tall_inter\n",
    "\t),\n",
    "\tset_labels=(\"Newsweek\", \"Time\", \"Fortune\")\n",
    ")\n",
    "\n",
    "plt.title(\"Venn Diagram of Magazine Readers\")\n",
    "plt.show()\n",
    "\n",
    "# Displaying the results\n",
    "print(f'Number of people who read at \"LEAST ONE\" of the three magazines: {NM_u_TM_u_FM}')\n",
    "print(f\"Number of people who read exactly one magazine: {NM_n_TM_n_FM}\")\n"
   ]
  },
  {
   "cell_type": "markdown",
   "metadata": {},
   "source": [
    "### In a survey of 25 new cars being sold at a local auto dealer was conducted to see which of the three popular options: air-conditioning, denoted as A; radio, denoted as R; and power windows, denoted as W were installed. The survey found that:\n",
    "\n",
    "- 15 had A. HINT: The condition said $\\textbf{\"had an A\" AND NOT \\ \"had an A only\"}$\n",
    "- 12 had R. HINT: The condition said $\\textbf{\"had an R\" AND NOT \\ \"had an R only\"}$\n",
    "- 11 had W. HINT: The condition said $\\textbf{\"had an W\" AND NOT \\ \"had an W only\"}$\n",
    "- 5 had A and W.\n",
    "- 9 had A and R.\n",
    "- 4 had R and W.\n",
    "- Only 3 have the three options.\n",
    "\n",
    "### With these information do the following:\n",
    "1. Draw the venn diagram using python.\n",
    "2. Find the number of cars with W only.\n",
    "3. Find the number of cars with A only.\n",
    "4. Find the number of cars with R only.\n",
    "5. Find the number of cars with both R and W but not A.\n",
    "6. Find the number of cars with both A and R but not W.\n",
    "7. Find the number of cars with only one of the options.\n",
    "8. Find the number of cars with at least one option.\n",
    "9. Find the number of cars with none of the Options."
   ]
  },
  {
   "cell_type": "code",
   "execution_count": 22,
   "metadata": {
    "notebookRunGroups": {
     "groupValue": ""
    }
   },
   "outputs": [
    {
     "data": {
      "image/png": "[encoded data removed]",
      "text/plain": [
       "<Figure size 432x288 with 1 Axes>"
      ]
     },
     "metadata": {},
     "output_type": "display_data"
    },
    {
     "name": "stdout",
     "output_type": "stream",
     "text": [
      "Number of cars with W only: 5\n",
      "Number of cars with A only: 4\n",
      "Number of cars with R only: 2\n",
      "Number of cars with both R and W but not A: 1\n",
      "Number of cars with both A and R but not W: 6\n",
      "Number of cars with only one of the options: 11\n",
      "Number of cars with at least one option: 23\n",
      "Number of cars with none of the options: 2\n"
     ]
    }
   ],
   "source": [
    "# Given data\n",
    "U = 25 # Number of new cars\n",
    "\n",
    "A = 15 # Air-Conditioning\n",
    "R = 12 # Radio\n",
    "W = 11 # Power Windows\n",
    "\n",
    "A_n_W = 5 # Air-Conditioning intersection Power Windows\n",
    "A_n_R = 9 # Air-Conditioning intersection Radio\n",
    "R_n_W = 4 # Radio intersection Power Windows\n",
    "\n",
    "all_inter = 3  # Intersection of Air-Conditioning, Radio and Power Windows\n",
    "\n",
    "# Calculate individual sets\n",
    "only_A = A - (A_n_W + A_n_R) + all_inter\n",
    "only_R = R - (A_n_R + R_n_W) + all_inter\n",
    "only_W = W - (A_n_W + R_n_W) + all_inter\n",
    "\n",
    "# Calculate set1 and set2 but not in set3\n",
    "A_n_R_notin_W = A_n_R - all_inter\n",
    "A_n_W_notin_R = A_n_W - all_inter\n",
    "R_n_W_notin_A = R_n_W - all_inter\n",
    "\n",
    "# Calculate the number of cars with only one of the options\n",
    "A_xor_R_xor_W = only_A + only_R + only_W\n",
    "\n",
    "# Calculate the number of cars with at least one option, in other words the union of all the sets.\n",
    "A_u_R_u_W = A_xor_R_xor_W + (A_n_R_notin_W + A_n_W_notin_R + R_n_W_notin_A) + all_inter\n",
    "\n",
    "# Calculate the number of cars with none of the options\n",
    "U_diff_A_u_R_u_W = U - A_u_R_u_W\n",
    "\n",
    "# Create the Venn diagram\n",
    "venn = venn3(\n",
    "\tsubsets=(\n",
    "\t\tonly_A,\n",
    "\t\tonly_R,\n",
    "\t\tA_n_R_notin_W,\n",
    "\t\tonly_W,\n",
    "\t\tA_n_W_notin_R,\n",
    "\t\tR_n_W_notin_A,\n",
    "\t\tall_inter\n",
    "\t),\n",
    "\tset_labels=(\"A\", \"R\", \"W\"),\n",
    ")\n",
    "\n",
    "plt.annotate(\"U\\n2\", xy=(-0.5, 0.5), fontsize=16)\n",
    "plt.title(\"Venn Diagram of Car Options\")\n",
    "plt.show()\n",
    "\n",
    "# Displaying the results\n",
    "print(f\"Number of cars with W only: {only_W}\")\n",
    "print(f\"Number of cars with A only: {only_A}\")\n",
    "print(f\"Number of cars with R only: {only_R}\")\n",
    "print(f\"Number of cars with both R and W but not A: {R_n_W_notin_A}\")\n",
    "print(f\"Number of cars with both A and R but not W: {A_n_R_notin_W}\")\n",
    "print(f\"Number of cars with only one of the options: {A_xor_R_xor_W}\")\n",
    "print(f\"Number of cars with at least one option: {A_u_R_u_W}\")\n",
    "print(f\"Number of cars with none of the options: {U_diff_A_u_R_u_W}\")"
   ]
  },
  {
   "cell_type": "code",
   "execution_count": null,
   "metadata": {},
   "outputs": [],
   "source": []
  }
 ],
 "metadata": {
  "kernelspec": {
   "display_name": "Python 3 (ipykernel)",
   "language": "python",
   "name": "python3"
  },
  "language_info": {
   "codemirror_mode": {
    "name": "ipython",
    "version": 3
   },
   "file_extension": ".py",
   "mimetype": "text/x-python",
   "name": "python",
   "nbconvert_exporter": "python",
   "pygments_lexer": "ipython3",
   "version": "3.10.5"
  }
 },
 "nbformat": 4,
 "nbformat_minor": 4
}
